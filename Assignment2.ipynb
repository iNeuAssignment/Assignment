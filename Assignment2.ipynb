{
 "cells": [
  {
   "cell_type": "code",
   "execution_count": 1,
   "metadata": {},
   "outputs": [],
   "source": [
    "#Q1\n",
    "#Create the below pattern using nested for loop in Python.\n",
    "#  *\n",
    "#  **\n",
    "#  ***\n",
    "#  ****\n",
    "#  *****\n",
    "#  ****\n",
    "#  ***\n",
    "#  **\n",
    "#  *"
   ]
  },
  {
   "cell_type": "code",
   "execution_count": 2,
   "metadata": {},
   "outputs": [
    {
     "name": "stdout",
     "output_type": "stream",
     "text": [
      "Hey..\n",
      "Please enter max count of (*) for the pattern \n",
      "5\n",
      "Pattern created with 5 max (*) \n",
      "*\n",
      "**\n",
      "***\n",
      "****\n",
      "*****\n",
      "****\n",
      "***\n",
      "**\n",
      "*\n",
      "\n"
     ]
    }
   ],
   "source": [
    "print('Hey..')\n",
    "print('Please enter max count of (*) for the pattern ')\n",
    "iMid = int(input())\n",
    "print(f'Pattern created with {iMid} max (*) ')\n",
    "iRowsMax = (iMid * 2)\n",
    "iVar = 0\n",
    "iJar = 0\n",
    "while iVar < iRowsMax:\n",
    "    iVar+=1\n",
    "    if iMid >= iVar:\n",
    "        print(iVar * '*')\n",
    "    else:\n",
    "        iJar += 1\n",
    "        print((iMid - iJar) * '*')\n",
    "    \n",
    "    "
   ]
  },
  {
   "cell_type": "code",
   "execution_count": 3,
   "metadata": {},
   "outputs": [],
   "source": [
    "#Q2\n",
    "#Write a Python program to reverse a word after accepting the input from the user."
   ]
  },
  {
   "cell_type": "code",
   "execution_count": 4,
   "metadata": {},
   "outputs": [
    {
     "name": "stdout",
     "output_type": "stream",
     "text": [
      "Please enter string which needs to be reversed\n",
      "ineuron\n",
      "Result norueni\n"
     ]
    }
   ],
   "source": [
    "print('Please enter string which needs to be reversed')\n",
    "inp =  input()\n",
    "print('Result ' + inp[::-1])"
   ]
  },
  {
   "cell_type": "code",
   "execution_count": null,
   "metadata": {},
   "outputs": [],
   "source": []
  }
 ],
 "metadata": {
  "kernelspec": {
   "display_name": "Python 3",
   "language": "python",
   "name": "python3"
  },
  "language_info": {
   "codemirror_mode": {
    "name": "ipython",
    "version": 3
   },
   "file_extension": ".py",
   "mimetype": "text/x-python",
   "name": "python",
   "nbconvert_exporter": "python",
   "pygments_lexer": "ipython3",
   "version": "3.7.4"
  }
 },
 "nbformat": 4,
 "nbformat_minor": 2
}
