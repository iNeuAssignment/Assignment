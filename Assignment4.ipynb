{
 "cells": [
  {
   "cell_type": "code",
   "execution_count": 1,
   "metadata": {},
   "outputs": [],
   "source": [
    "#Q 1.1\n",
    "#Write a Python Program(with class concepts) to find the area of the triangle using the below\n",
    "#formula.\n",
    "#area = (s*(s-a)*(s-b)*(s-c)) ** 0.5\n",
    "#Function to take the length of the sides of triangle from user should be defined in the parent\n",
    "#class and function to calculate the area should be defined in subclass"
   ]
  },
  {
   "cell_type": "code",
   "execution_count": 3,
   "metadata": {},
   "outputs": [
    {
     "name": "stdout",
     "output_type": "stream",
     "text": [
      "Hey Welcome..\n"
     ]
    },
    {
     "data": {
      "text/plain": [
       "108.9954127475097"
      ]
     },
     "execution_count": 3,
     "metadata": {},
     "output_type": "execute_result"
    }
   ],
   "source": [
    "class ParentClass():\n",
    "    def __init__(self,side,a,b,c):\n",
    "        self.side = side\n",
    "        self.a = a\n",
    "        self.b = b\n",
    "        self.c = c\n",
    "        \n",
    "    \n",
    "    def calulateArea(self):\n",
    "        raise NotImplementedError(\"SubClass must implement this\")\n",
    "\n",
    "class SubClass(ParentClass):\n",
    "    \n",
    "     def calulateArea(self):\n",
    "        return (self.side * (self.side - self.a) * (self.side - self.b) * (self.side - self.c)) ** 0.5\n",
    "    \n",
    "        \n",
    "\n",
    "print('Hey Welcome..')\n",
    "subClass = SubClass(side = 12,a = 1,b = 2, c = 3)\n",
    "subClass.calulateArea()\n"
   ]
  },
  {
   "cell_type": "code",
   "execution_count": null,
   "metadata": {},
   "outputs": [],
   "source": [
    "#Q 1.2\n",
    "#Write a function filter_long_words() that takes a list of words and an integer n and returns\n",
    "#the list of words that are longer than n."
   ]
  },
  {
   "cell_type": "code",
   "execution_count": 15,
   "metadata": {},
   "outputs": [
    {
     "name": "stdout",
     "output_type": "stream",
     "text": [
      "['name', 'Anil']\n"
     ]
    }
   ],
   "source": [
    "def filter_long_words(lst,n):\n",
    "    templist = []\n",
    "    for item in lst:\n",
    "        if len(item) > n:\n",
    "            templist.append(item)\n",
    "            \n",
    "    return templist\n",
    "    \n",
    "myList = ['Hi','My','name', 'is','Anil']\n",
    "print(filter_long_words(myList , 2))\n"
   ]
  },
  {
   "cell_type": "code",
   "execution_count": null,
   "metadata": {},
   "outputs": [],
   "source": [
    "#Q 2.1\n",
    "#Write a Python program using function concept that maps list of words into a list of integers\n",
    "#representing the lengths of the corresponding words"
   ]
  },
  {
   "cell_type": "code",
   "execution_count": 18,
   "metadata": {},
   "outputs": [
    {
     "name": "stdout",
     "output_type": "stream",
     "text": [
      "[2, 3, 4]\n"
     ]
    }
   ],
   "source": [
    "def getlength(mylist):\n",
    "    templen = []\n",
    "    for item in mylist:\n",
    "        templen.append(len(item))\n",
    "                       \n",
    "    \n",
    "    return templen\n",
    "        \n",
    "\n",
    "mylist = ['ab','cde','erty']\n",
    "print(getlength(mylist))\n"
   ]
  },
  {
   "cell_type": "code",
   "execution_count": 24,
   "metadata": {},
   "outputs": [
    {
     "name": "stdout",
     "output_type": "stream",
     "text": [
      "False\n",
      "True\n"
     ]
    }
   ],
   "source": [
    "#Q 2.2\n",
    "#Write a Python function which takes a character (i.e. a string of length 1) and returns True if\n",
    "#it is a vowel, False otherwise\n",
    "\n",
    "def checkVowel(char):\n",
    "    if char in ['a','e','i','o','u']:\n",
    "        return True\n",
    "    else:\n",
    "        return False\n",
    "\n",
    "\n",
    "print(checkVowel('f'))\n",
    "print(checkVowel('e'))\n"
   ]
  },
  {
   "cell_type": "code",
   "execution_count": null,
   "metadata": {},
   "outputs": [],
   "source": []
  }
 ],
 "metadata": {
  "kernelspec": {
   "display_name": "Python 3",
   "language": "python",
   "name": "python3"
  },
  "language_info": {
   "codemirror_mode": {
    "name": "ipython",
    "version": 3
   },
   "file_extension": ".py",
   "mimetype": "text/x-python",
   "name": "python",
   "nbconvert_exporter": "python",
   "pygments_lexer": "ipython3",
   "version": "3.7.4"
  }
 },
 "nbformat": 4,
 "nbformat_minor": 2
}
