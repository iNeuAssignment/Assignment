{
 "cells": [
  {
   "cell_type": "code",
   "execution_count": 1,
   "metadata": {},
   "outputs": [],
   "source": [
    "#Q 1.1\n",
    "#Write a Python Program to implement your own myreduce() function which works exactly\n",
    "#like Python's built-in function reduce()"
   ]
  },
  {
   "cell_type": "code",
   "execution_count": 2,
   "metadata": {},
   "outputs": [
    {
     "name": "stdout",
     "output_type": "stream",
     "text": [
      "6\n"
     ]
    }
   ],
   "source": [
    "def myreduce(n):\n",
    "    sum = 0\n",
    "    for ivar in n:\n",
    "        sum += ivar  \n",
    "        \n",
    "    return sum\n",
    "\n",
    "result =  myreduce([1,2,3])\n",
    "print(result)"
   ]
  },
  {
   "cell_type": "code",
   "execution_count": 3,
   "metadata": {},
   "outputs": [],
   "source": [
    "#Q 1.2\n",
    "#Write a Python program to implement your own myfilter() function which works exactly\n",
    "#like Python's built-in function filter()\n"
   ]
  },
  {
   "cell_type": "code",
   "execution_count": 4,
   "metadata": {},
   "outputs": [
    {
     "name": "stdout",
     "output_type": "stream",
     "text": [
      "[10, 15, 20]\n"
     ]
    }
   ],
   "source": [
    "mylist = [5,10,15,20]\n",
    "\n",
    "#--------By using Built in Function-----------\n",
    "#list(filter(lambda num:num > 10,mylist))           \n",
    "\n",
    "#--------By using Custom  Function-----------\n",
    "def myfilter(n):\n",
    "    return n > 10\n",
    "\n",
    "index = 0;\n",
    "for i in mylist:\n",
    "    index += 0\n",
    "    if myfilter(i):\n",
    "        mylist.pop(index)\n",
    "          \n",
    "\n",
    "print(mylist)            "
   ]
  },
  {
   "cell_type": "code",
   "execution_count": 5,
   "metadata": {},
   "outputs": [
    {
     "name": "stdout",
     "output_type": "stream",
     "text": [
      "Comprehension Result 1\n",
      "['x', 'xx', 'xxx', 'xxxx', 'y', 'yy', 'yyy', 'yyyy', 'z', 'zz', 'zzz', 'zzzz']\n",
      "Comprehension Result 2\n",
      "['x', 'y', 'z', 'xx', 'yy', 'zz', 'xxx', 'yyy', 'zzz', 'xxxx', 'yyyy', 'zzzz']\n",
      "Comprehension Result 3\n",
      "[[2], [3], [4], [3], [4], [5], [4], [5], [6]]\n",
      "[[2, 3, 4, 5], [3, 4, 5, 6], [4, 5, 6, 7], [5, 6, 7, 8]]\n",
      "Comprehension Result 4\n",
      "[(1, 1), (2, 1), (3, 1), (1, 2), (2, 2), (3, 2), (1, 3), (2, 3), (3, 3)]\n"
     ]
    }
   ],
   "source": [
    "#Q 3\n",
    "# Implement List Comprehension to produce the following lists. \n",
    "\n",
    "mylist = ['x','y','z']\n",
    "\n",
    "print('Comprehension Result 1')\n",
    "result1 = [item * num for item in mylist for num in range(1,5)]\n",
    "print(result1)\n",
    "\n",
    "print('Comprehension Result 2')\n",
    "result2 = [item * num for num in range(1,len(mylist) + 2) for item in ['x','y','z']]\n",
    "print(result2)\n",
    "\n",
    "print('Comprehension Result 3')\n",
    "result3 = [[item + item2] for item in range(1,4) for item2 in range(1,4)] \n",
    "result4 = [list(map(lambda num:num + item,[1,2,3,4])) for item in range(1,5)]\n",
    "\n",
    "print(result3)\n",
    "print(result4)\n",
    "\n",
    "print('Comprehension Result 4')\n",
    "result5 = [(item2,item) for item in range(1,4) for item2 in range(1,4)]\n",
    "print(result5)\n",
    "\n",
    "\n",
    "\n"
   ]
  }
 ],
 "metadata": {
  "kernelspec": {
   "display_name": "Python 3",
   "language": "python",
   "name": "python3"
  },
  "language_info": {
   "codemirror_mode": {
    "name": "ipython",
    "version": 3
   },
   "file_extension": ".py",
   "mimetype": "text/x-python",
   "name": "python",
   "nbconvert_exporter": "python",
   "pygments_lexer": "ipython3",
   "version": "3.7.4"
  }
 },
 "nbformat": 4,
 "nbformat_minor": 2
}
